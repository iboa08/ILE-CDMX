{
 "cells": [
  {
   "cell_type": "markdown",
   "metadata": {},
   "source": [
    "# Interrupcion Legal de Embarazo CDMX"
   ]
  },
  {
   "cell_type": "markdown",
   "metadata": {},
   "source": [
    "### Vista general de datos"
   ]
  },
  {
   "cell_type": "code",
   "execution_count": 34,
   "metadata": {
    "scrolled": false
   },
   "outputs": [],
   "source": [
    "import pandas as pd\n",
    "pd.plotting.register_matplotlib_converters()\n",
    "import matplotlib.pyplot as plt\n",
    "%matplotlib inline\n",
    "import seaborn as sns\n",
    "\n",
    "pd.set_option('display.max_rows', 50)\n",
    "embarazo = pd.read_csv(\"/Users/iboa08/Desktop/ML/interrupcion-legal-del-embarazo.csv\", engine=\"python\")\n",
    "#embarazo"
   ]
  },
  {
   "cell_type": "markdown",
   "metadata": {},
   "source": [
    "### Mini limpieza de datos"
   ]
  },
  {
   "cell_type": "code",
   "execution_count": 35,
   "metadata": {},
   "outputs": [],
   "source": [
    "embarazo = embarazo.drop(\"AUTOREF\", axis=1)\n",
    "embarazo = embarazo.drop(\"H_FINGRESO\", axis=1)\n",
    "embarazo = embarazo.drop(\"P_CONSENT\", axis=1)\n",
    "embarazo = embarazo.drop(\"PARENTEZCO\", axis=1)\n",
    "\n",
    "embarazo['OCUPACION'] = embarazo.OCUPACION.fillna('No se dijo')\n",
    "dict = {\"preparatoria completa\": \"PREPACOM\", \"secundaria completa\": \"SECCOM\",\n",
    "       \"licenciatura completa\": \"LICCOM\", \"primaria completa\": \"PRIMCOM\", \n",
    "       \"preparatoria incompleta\": \"PREPINC\", \"licenciatura incompleta\": \"LICINC\",\n",
    "       \"secundaria incompleta\": \"SECINC\", \"ninguno\": \"NINGUNO\"}\n",
    "embarazo = embarazo.replace({\"NIVEL_EDU\": dict})\n",
    "\n",
    "#alcaldia = pd.get_dummies(embarazo['ALC O MUNICIPIO'])\n",
    "#embarazo = pd.concat([embarazo,alcaldia], axis=1)\n"
   ]
  },
  {
   "cell_type": "markdown",
   "metadata": {},
   "source": [
    "### Cantidad de abortos por edad"
   ]
  },
  {
   "cell_type": "code",
   "execution_count": 32,
   "metadata": {},
   "outputs": [
    {
     "data": {
      "text/plain": [
       "<matplotlib.axes._subplots.AxesSubplot at 0x1a1d4c7d68>"
      ]
     },
     "execution_count": 32,
     "metadata": {},
     "output_type": "execute_result"
    },
    {
     "data": {
      "image/png": "[encoded data removed]",
      "text/plain": [
       "<Figure size 432x288 with 1 Axes>"
      ]
     },
     "metadata": {
      "needs_background": "light"
     },
     "output_type": "display_data"
    }
   ],
   "source": [
    "embarazo['EDAD'].value_counts().sort_index().plot.bar()"
   ]
  },
  {
   "cell_type": "markdown",
   "metadata": {},
   "source": [
    "### Cantidad de abortos por mes"
   ]
  },
  {
   "cell_type": "code",
   "execution_count": 86,
   "metadata": {},
   "outputs": [
    {
     "data": {
      "text/plain": [
       "<matplotlib.axes._subplots.AxesSubplot at 0x1a1da2dc50>"
      ]
     },
     "execution_count": 86,
     "metadata": {},
     "output_type": "execute_result"
    },
    {
     "data": {
      "image/png": "[encoded data removed]",
      "text/plain": [
       "<Figure size 432x288 with 1 Axes>"
      ]
     },
     "metadata": {
      "needs_background": "light"
     },
     "output_type": "display_data"
    }
   ],
   "source": [
    "embarazo['MES'].value_counts().sort_index().plot.barh()"
   ]
  },
  {
   "cell_type": "code",
   "execution_count": null,
   "metadata": {},
   "outputs": [],
   "source": []
  }
 ],
 "metadata": {
  "kernelspec": {
   "display_name": "Python 3",
   "language": "python",
   "name": "python3"
  },
  "language_info": {
   "codemirror_mode": {
    "name": "ipython",
    "version": 3
   },
   "file_extension": ".py",
   "mimetype": "text/x-python",
   "name": "python",
   "nbconvert_exporter": "python",
   "pygments_lexer": "ipython3",
   "version": "3.7.1"
  }
 },
 "nbformat": 4,
 "nbformat_minor": 2
}
